{
 "cells": [
  {
   "cell_type": "code",
   "execution_count": 1,
   "id": "9ba8bb37",
   "metadata": {},
   "outputs": [],
   "source": [
    "import numpy as np\n",
    "#Определяем изображение\n",
    "ris = '4315 1348 4543 6594'\n",
    "image = np.array([tuple(map(float, i)) for i in ris.split()])"
   ]
  },
  {
   "cell_type": "code",
   "execution_count": 2,
   "id": "1479ffb6",
   "metadata": {},
   "outputs": [],
   "source": [
    "#ВВодим параметры и разновидность пулин\n",
    "# 1 - max-pooling, 2 - min-pooling, 3 - average-pooling\n",
    "# pooling = (2, 3, 1) - означает MAX-pooling (2, 3)\n",
    "pooling = (2, 2, 1)"
   ]
  },
  {
   "cell_type": "code",
   "execution_count": 3,
   "id": "1815c149",
   "metadata": {},
   "outputs": [],
   "source": [
    "# Заготовка для матрицы после применения пулинга\n",
    "result = np.zeros((image.shape[0] // pooling[0],\n",
    "                   image.shape[1] // pooling[1]))"
   ]
  },
  {
   "cell_type": "code",
   "execution_count": 4,
   "id": "8561543e",
   "metadata": {},
   "outputs": [],
   "source": [
    "# Операция пулинга\n",
    "for i in range(result.shape[0]):\n",
    "    for j in range(result.shape[1]):\n",
    "        mtx = image[i * pooling[0]:i * pooling[0] + pooling[0], j * pooling[1]:j * pooling[1] + pooling[1]]\n",
    "        if pooling[2] == 1:\n",
    "            result[i, j] = mtx.max()\n",
    "        elif pooling[2] == 2:\n",
    "            result[i, j] = mtx.min()\n",
    "        elif pooling[2] == 3:\n",
    "            result[i, j] = mtx.mean()"
   ]
  },
  {
   "cell_type": "code",
   "execution_count": 6,
   "id": "760379c4",
   "metadata": {},
   "outputs": [
    {
     "data": {
      "text/plain": [
       "27.0"
      ]
     },
     "execution_count": 6,
     "metadata": {},
     "output_type": "execute_result"
    }
   ],
   "source": [
    "result.sum()"
   ]
  }
 ],
 "metadata": {
  "kernelspec": {
   "display_name": "Python 3 (ipykernel)",
   "language": "python",
   "name": "python3"
  },
  "language_info": {
   "codemirror_mode": {
    "name": "ipython",
    "version": 3
   },
   "file_extension": ".py",
   "mimetype": "text/x-python",
   "name": "python",
   "nbconvert_exporter": "python",
   "pygments_lexer": "ipython3",
   "version": "3.9.7"
  }
 },
 "nbformat": 4,
 "nbformat_minor": 5
}
