{
 "cells": [
  {
   "cell_type": "code",
   "execution_count": 7,
   "id": "3c6ba5e7",
   "metadata": {},
   "outputs": [],
   "source": [
    "# Введем матрицу изображения\n",
    "import numpy as np\n",
    "m1 = '100001 011100 011100 111111 001100 101101'\n",
    "image = np.array([tuple(map(float, i)) for i in m1.split()])"
   ]
  },
  {
   "cell_type": "code",
   "execution_count": 10,
   "id": "4d802fc0",
   "metadata": {},
   "outputs": [],
   "source": [
    "# Вводим матрицу фильтра\n",
    "filtr = '010 111 010'\n",
    "mask = np.array([tuple(map(float, _)) for _ in filtr.split()])"
   ]
  },
  {
   "cell_type": "code",
   "execution_count": 13,
   "id": "09ae1cbd",
   "metadata": {},
   "outputs": [],
   "source": [
    "# Вводим значение шага или stride\n",
    "stride_x = 1\n",
    "stride_y = 1 "
   ]
  },
  {
   "cell_type": "code",
   "execution_count": 14,
   "id": "c9606871",
   "metadata": {},
   "outputs": [],
   "source": [
    "# Получаем итоговый размер матрицы \n",
    "result = np.zeros(((image.shape[0] - mask.shape[0] + stride_y) // stride_y,\n",
    "                   (image.shape[1] - mask.shape[1] + stride_x) // stride_x))"
   ]
  },
  {
   "cell_type": "code",
   "execution_count": 21,
   "id": "eb7e8265",
   "metadata": {},
   "outputs": [],
   "source": [
    "#Применим свертку\n",
    "for i in range(result.shape[0]):\n",
    "    for j in range(result.shape[1]):\n",
    "        mtx = image[i * stride_y:i * stride_y + mask.shape[0], j * stride_x:j * stride_x + mask.shape[1]]\n",
    "        result[i, j] = (mtx * mask).sum()"
   ]
  },
  {
   "cell_type": "code",
   "execution_count": 23,
   "id": "c055ad97",
   "metadata": {},
   "outputs": [
    {
     "name": "stdout",
     "output_type": "stream",
     "text": [
      "[[3. 4. 3. 1.]\n",
      " [4. 5. 4. 2.]\n",
      " [4. 5. 5. 3.]\n",
      " [2. 4. 4. 2.]]\n"
     ]
    }
   ],
   "source": [
    "print(result)"
   ]
  },
  {
   "cell_type": "code",
   "execution_count": null,
   "id": "17bf73a8",
   "metadata": {},
   "outputs": [],
   "source": []
  }
 ],
 "metadata": {
  "kernelspec": {
   "display_name": "Python 3 (ipykernel)",
   "language": "python",
   "name": "python3"
  },
  "language_info": {
   "codemirror_mode": {
    "name": "ipython",
    "version": 3
   },
   "file_extension": ".py",
   "mimetype": "text/x-python",
   "name": "python",
   "nbconvert_exporter": "python",
   "pygments_lexer": "ipython3",
   "version": "3.9.7"
  }
 },
 "nbformat": 4,
 "nbformat_minor": 5
}
